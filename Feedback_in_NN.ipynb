{
  "nbformat": 4,
  "nbformat_minor": 0,
  "metadata": {
    "colab": {
      "provenance": [],
      "authorship_tag": "ABX9TyNoIRcIT0ReCRLz9so6HBiD",
      "include_colab_link": true
    },
    "kernelspec": {
      "name": "python3",
      "display_name": "Python 3"
    },
    "language_info": {
      "name": "python"
    }
  },
  "cells": [
    {
      "cell_type": "markdown",
      "metadata": {
        "id": "view-in-github",
        "colab_type": "text"
      },
      "source": [
        "<a href=\"https://colab.research.google.com/github/wouffle/Feedback-in-neural-networks/blob/main/Feedback_in_NN.ipynb\" target=\"_parent\"><img src=\"https://colab.research.google.com/assets/colab-badge.svg\" alt=\"Open In Colab\"/></a>"
      ]
    },
    {
      "cell_type": "code",
      "execution_count": null,
      "metadata": {
        "id": "20rjyCSu7C8i",
        "outputId": "54d4c40a-d1f0-4ac1-c952-9953b18364da",
        "colab": {
          "base_uri": "https://localhost:8080/"
        }
      },
      "outputs": [
        {
          "output_type": "stream",
          "name": "stdout",
          "text": [
            "Epoch 1/20\n",
            "31/31 [==============================] - 2s 7ms/step - loss: 0.2918\n",
            "Epoch 2/20\n",
            "31/31 [==============================] - 0s 5ms/step - loss: 0.1733\n",
            "Epoch 3/20\n",
            "31/31 [==============================] - 0s 3ms/step - loss: 0.0829\n",
            "Epoch 4/20\n",
            "31/31 [==============================] - 0s 3ms/step - loss: 0.0239\n",
            "Epoch 5/20\n",
            "31/31 [==============================] - 0s 3ms/step - loss: 0.0032\n",
            "Epoch 6/20\n",
            "31/31 [==============================] - 0s 3ms/step - loss: 6.1604e-04\n",
            "Epoch 7/20\n",
            "31/31 [==============================] - 0s 3ms/step - loss: 3.0719e-04\n",
            "Epoch 8/20\n",
            "31/31 [==============================] - 0s 3ms/step - loss: 2.5046e-04\n",
            "Epoch 9/20\n",
            "31/31 [==============================] - 0s 3ms/step - loss: 2.2536e-04\n",
            "Epoch 10/20\n",
            "31/31 [==============================] - 0s 3ms/step - loss: 2.0165e-04\n",
            "Epoch 11/20\n",
            "31/31 [==============================] - 0s 3ms/step - loss: 1.8553e-04\n",
            "Epoch 12/20\n",
            "31/31 [==============================] - 0s 3ms/step - loss: 1.7067e-04\n",
            "Epoch 13/20\n",
            "31/31 [==============================] - 0s 3ms/step - loss: 1.6025e-04\n",
            "Epoch 14/20\n",
            "31/31 [==============================] - 0s 4ms/step - loss: 1.4942e-04\n",
            "Epoch 15/20\n",
            "31/31 [==============================] - 0s 4ms/step - loss: 1.3701e-04\n",
            "Epoch 16/20\n",
            "31/31 [==============================] - 0s 3ms/step - loss: 1.2770e-04\n",
            "Epoch 17/20\n",
            "31/31 [==============================] - 0s 3ms/step - loss: 1.1771e-04\n",
            "Epoch 18/20\n",
            "31/31 [==============================] - 0s 3ms/step - loss: 1.1087e-04\n",
            "Epoch 19/20\n",
            "31/31 [==============================] - 0s 3ms/step - loss: 1.0618e-04\n",
            "Epoch 20/20\n",
            "31/31 [==============================] - 0s 3ms/step - loss: 9.6752e-05\n",
            "1/1 [==============================] - 0s 171ms/step\n",
            "Predicted next value: -0.9975747466087341\n"
          ]
        }
      ],
      "source": [
        "import tensorflow as tf\n",
        "from tensorflow.keras.models import Sequential\n",
        "from tensorflow.keras.layers import SimpleRNN, Dense\n",
        "import numpy as np\n",
        "\n",
        "# Generate some sequential data for training\n",
        "# Example: Generating a sine wave sequence\n",
        "num_samples = 1000\n",
        "sequence_length = 10\n",
        "timesteps = np.linspace(0, 10, num_samples)\n",
        "data = np.sin(timesteps)[:, np.newaxis]  # adding a new axis for sequence data\n",
        "\n",
        "# Prepare data for training (sequences and targets)\n",
        "sequences = []\n",
        "targets = []\n",
        "for i in range(len(data) - sequence_length):\n",
        "    sequences.append(data[i:i + sequence_length])\n",
        "    targets.append(data[i + sequence_length])\n",
        "\n",
        "# Convert lists to numpy arrays\n",
        "X = np.array(sequences)\n",
        "y = np.array(targets)\n",
        "\n",
        "# Define and train a SimpleRNN model\n",
        "model = Sequential([\n",
        "    SimpleRNN(units=10, input_shape=(sequence_length, 1), activation='relu'),\n",
        "    Dense(units=1)\n",
        "])\n",
        "\n",
        "model.compile(optimizer='adam', loss='mse')\n",
        "model.fit(X, y, epochs=20, batch_size=32)\n",
        "\n",
        "# Example prediction using feedback\n",
        "# Generate a new sequence to predict the next step\n",
        "new_sequence = np.sin(np.linspace(10.1, 11.1, sequence_length))[:, np.newaxis]\n",
        "new_sequence = new_sequence[np.newaxis, :, :]  # add batch and timestep dimensions\n",
        "\n",
        "# Predict the next value in the sequence\n",
        "prediction = model.predict(new_sequence)\n",
        "print(f\"Predicted next value: {prediction[0, 0]}\")\n",
        "\n"
      ]
    }
  ]
}